{
 "cells": [
  {
   "cell_type": "code",
   "id": "initial_id",
   "metadata": {
    "collapsed": true,
    "ExecuteTime": {
     "end_time": "2024-07-17T02:02:54.443501Z",
     "start_time": "2024-07-17T02:02:54.063343Z"
    }
   },
   "source": [
    "# Run in Jupyter Notebook or Google Colab for smoothest experience\n",
    "# Install required libraries\n",
    "!pip install langchain duckdb faiss-cpu langchain_experimental time \n",
    "!pip install transformers pandas langchain-huggingface python-dotenv dotenv\n",
    "!pip install langchain_community langchain_groq langchain_core sentence-transformers"
   ],
   "outputs": [
    {
     "name": "stdout",
     "output_type": "stream",
     "text": [
      "zsh:1: /Users/abraham/PycharmProjects/Guan's Notebook/.venv/bin/./pip: bad interpreter: /Users/abraham/PycharmProjects/llm-mvp-dataRetrieval/.venv/bin/python: no such file or directory\r\n",
      "zsh:1: /Users/abraham/PycharmProjects/Guan's Notebook/.venv/bin/./pip: bad interpreter: /Users/abraham/PycharmProjects/llm-mvp-dataRetrieval/.venv/bin/python: no such file or directory\r\n",
      "zsh:1: /Users/abraham/PycharmProjects/Guan's Notebook/.venv/bin/./pip: bad interpreter: /Users/abraham/PycharmProjects/llm-mvp-dataRetrieval/.venv/bin/python: no such file or directory\r\n"
     ]
    }
   ],
   "execution_count": 1
  },
  {
   "metadata": {},
   "cell_type": "markdown",
   "source": "### 1. Import CSV file data",
   "id": "b0bdff372f689bf1"
  },
  {
   "metadata": {
    "ExecuteTime": {
     "end_time": "2024-07-17T02:02:58.589107Z",
     "start_time": "2024-07-17T02:02:57.514999Z"
    }
   },
   "cell_type": "code",
   "source": [
    "# Read the CSV file\n",
    "# You can change this to your own CSV file containing the text data you want to analyze.\n",
    "\n",
    "import pandas as pd\n",
    "\n",
    "# Load the CSV file\n",
    "df = pd.read_csv('StockbitFAQ.csv')\n",
    "\n",
    "df.head()"
   ],
   "id": "d4c16b3db035bb4a",
   "outputs": [
    {
     "data": {
      "text/plain": [
       "                                     id  \\\n",
       "0  0027af6a-4f47-4812-97aa-97971af835f0   \n",
       "1  00d087ff-31a4-4098-ab11-c15f91b0de88   \n",
       "2  00fa91b9-4b6a-4936-a824-40461faac0be   \n",
       "3  017b51a4-b964-43ca-9d3d-4c24a54f2097   \n",
       "4  01b3c6c0-b061-45e1-b16a-aadf72175264   \n",
       "\n",
       "                                                slug  \\\n",
       "0                  cara-cancel-dan-amend-order-saham   \n",
       "1  transfer-pembelian-reksa-dana-pakai-aplikasi-dana   \n",
       "2  kenapa-saldo-investasi-saya-di-bibit-dan-akses...   \n",
       "3  kapan-penjualan-selesai-dan-dapat-harga-jual-h...   \n",
       "4           panduan-set-pembelian-rutin-nabung-rutin   \n",
       "\n",
       "                                               title  \\\n",
       "0                  Cara Cancel dan Amend Order Saham   \n",
       "1  Transfer Pembelian Reksa Dana Pakai Aplikasi Dana   \n",
       "2  Kenapa Saldo Investasi Saya di Bibit dan AKSes...   \n",
       "3  Kapan Penjualan Selesai dan Dapat Harga Jual H...   \n",
       "4         Panduan Set Pembelian Rutin (Nabung Rutin)   \n",
       "\n",
       "                                         description  \\\n",
       "0                                                NaN   \n",
       "1  Panduan Pembelian Reksa Dana Menggunakan Aplik...   \n",
       "2  Penjelasan mengenai perbedaan saldo Innvestasi...   \n",
       "3       Penjelasan mengenai waktu penjualan selesai.   \n",
       "4                                                NaN   \n",
       "\n",
       "                                             content         published_at  \\\n",
       "0  Sebelum melakukan cancel atau amend, pastikan ...  09/27/2023 08:42:27   \n",
       "1  ### Panduan Pembelian Reksa Dana dan Transfer ...  07/22/2019 07:36:28   \n",
       "2  Saldo portofolio reksa dana kamu baru akan diu...  02/10/2021 05:07:13   \n",
       "3  ${youtube}[Video Penjelasan Waktu Penyelesaian...  12/19/2018 09:17:26   \n",
       "4  ### Apa itu Fitur Nabung Rutin?\\nFitur nabung ...  02/07/2024 08:25:33   \n",
       "\n",
       "            created_at           updated_at  \n",
       "0  09/25/2023 08:13:45  09/27/2023 08:42:27  \n",
       "1  07/22/2019 07:00:35  09/16/2022 07:06:11  \n",
       "2  02/10/2021 04:53:28  07/13/2022 02:59:30  \n",
       "3  12/12/2018 07:48:58  10/09/2023 02:50:07  \n",
       "4  02/07/2024 07:53:11  03/08/2024 06:11:30  "
      ],
      "text/html": [
       "<div>\n",
       "<style scoped>\n",
       "    .dataframe tbody tr th:only-of-type {\n",
       "        vertical-align: middle;\n",
       "    }\n",
       "\n",
       "    .dataframe tbody tr th {\n",
       "        vertical-align: top;\n",
       "    }\n",
       "\n",
       "    .dataframe thead th {\n",
       "        text-align: right;\n",
       "    }\n",
       "</style>\n",
       "<table border=\"1\" class=\"dataframe\">\n",
       "  <thead>\n",
       "    <tr style=\"text-align: right;\">\n",
       "      <th></th>\n",
       "      <th>id</th>\n",
       "      <th>slug</th>\n",
       "      <th>title</th>\n",
       "      <th>description</th>\n",
       "      <th>content</th>\n",
       "      <th>published_at</th>\n",
       "      <th>created_at</th>\n",
       "      <th>updated_at</th>\n",
       "    </tr>\n",
       "  </thead>\n",
       "  <tbody>\n",
       "    <tr>\n",
       "      <th>0</th>\n",
       "      <td>0027af6a-4f47-4812-97aa-97971af835f0</td>\n",
       "      <td>cara-cancel-dan-amend-order-saham</td>\n",
       "      <td>Cara Cancel dan Amend Order Saham</td>\n",
       "      <td>NaN</td>\n",
       "      <td>Sebelum melakukan cancel atau amend, pastikan ...</td>\n",
       "      <td>09/27/2023 08:42:27</td>\n",
       "      <td>09/25/2023 08:13:45</td>\n",
       "      <td>09/27/2023 08:42:27</td>\n",
       "    </tr>\n",
       "    <tr>\n",
       "      <th>1</th>\n",
       "      <td>00d087ff-31a4-4098-ab11-c15f91b0de88</td>\n",
       "      <td>transfer-pembelian-reksa-dana-pakai-aplikasi-dana</td>\n",
       "      <td>Transfer Pembelian Reksa Dana Pakai Aplikasi Dana</td>\n",
       "      <td>Panduan Pembelian Reksa Dana Menggunakan Aplik...</td>\n",
       "      <td>### Panduan Pembelian Reksa Dana dan Transfer ...</td>\n",
       "      <td>07/22/2019 07:36:28</td>\n",
       "      <td>07/22/2019 07:00:35</td>\n",
       "      <td>09/16/2022 07:06:11</td>\n",
       "    </tr>\n",
       "    <tr>\n",
       "      <th>2</th>\n",
       "      <td>00fa91b9-4b6a-4936-a824-40461faac0be</td>\n",
       "      <td>kenapa-saldo-investasi-saya-di-bibit-dan-akses...</td>\n",
       "      <td>Kenapa Saldo Investasi Saya di Bibit dan AKSes...</td>\n",
       "      <td>Penjelasan mengenai perbedaan saldo Innvestasi...</td>\n",
       "      <td>Saldo portofolio reksa dana kamu baru akan diu...</td>\n",
       "      <td>02/10/2021 05:07:13</td>\n",
       "      <td>02/10/2021 04:53:28</td>\n",
       "      <td>07/13/2022 02:59:30</td>\n",
       "    </tr>\n",
       "    <tr>\n",
       "      <th>3</th>\n",
       "      <td>017b51a4-b964-43ca-9d3d-4c24a54f2097</td>\n",
       "      <td>kapan-penjualan-selesai-dan-dapat-harga-jual-h...</td>\n",
       "      <td>Kapan Penjualan Selesai dan Dapat Harga Jual H...</td>\n",
       "      <td>Penjelasan mengenai waktu penjualan selesai.</td>\n",
       "      <td>${youtube}[Video Penjelasan Waktu Penyelesaian...</td>\n",
       "      <td>12/19/2018 09:17:26</td>\n",
       "      <td>12/12/2018 07:48:58</td>\n",
       "      <td>10/09/2023 02:50:07</td>\n",
       "    </tr>\n",
       "    <tr>\n",
       "      <th>4</th>\n",
       "      <td>01b3c6c0-b061-45e1-b16a-aadf72175264</td>\n",
       "      <td>panduan-set-pembelian-rutin-nabung-rutin</td>\n",
       "      <td>Panduan Set Pembelian Rutin (Nabung Rutin)</td>\n",
       "      <td>NaN</td>\n",
       "      <td>### Apa itu Fitur Nabung Rutin?\\nFitur nabung ...</td>\n",
       "      <td>02/07/2024 08:25:33</td>\n",
       "      <td>02/07/2024 07:53:11</td>\n",
       "      <td>03/08/2024 06:11:30</td>\n",
       "    </tr>\n",
       "  </tbody>\n",
       "</table>\n",
       "</div>"
      ]
     },
     "execution_count": 2,
     "metadata": {},
     "output_type": "execute_result"
    }
   ],
   "execution_count": 2
  },
  {
   "metadata": {},
   "cell_type": "markdown",
   "source": "### 2. Chunking the Data",
   "id": "9b6cf90f3e3e7152"
  },
  {
   "metadata": {
    "ExecuteTime": {
     "end_time": "2024-07-17T02:02:59.186077Z",
     "start_time": "2024-07-17T02:02:58.590743Z"
    }
   },
   "cell_type": "code",
   "source": [
    "import pandas as pd\n",
    "from langchain.schema import Document \n",
    "\n",
    "# Assuming df is your DataFrame\n",
    "# The 'content' column is assumed to contain the text data, and 'title' is the key\n",
    "text_column = 'content'\n",
    "title_column = 'title'\n",
    "\n",
    "# Make a custom text splitter function\n",
    "def custom_text_splitter(text, chunk_size, chunk_overlap):\n",
    "    start = 0\n",
    "    chunks = []\n",
    "    while start < len(text):\n",
    "        end = start + chunk_size\n",
    "        chunks.append(text[start:end])\n",
    "        start = end - chunk_overlap  # Move start back by chunk_overlap to create overlap\n",
    "    return chunks\n",
    "\n",
    "split_data = []\n",
    "\n",
    "for index, row in df.iterrows():\n",
    "    title = row[title_column]\n",
    "    content = row[text_column]\n",
    "    # Ensure content is a string\n",
    "    if not isinstance(content, str):\n",
    "        content = str(content)\n",
    "    # Set chunk size to 500 char, 50 char overlap    \n",
    "    chunks = custom_text_splitter(content, 500, 50)\n",
    "    for i, chunk in enumerate(chunks):\n",
    "        if i == 0:\n",
    "            # Concatenate title with the first chunk\n",
    "            # This is to improve data retrieval accuracy\n",
    "            chunk = title + \"\\n\\n\" + chunk\n",
    "        split_data.append({'title': title, 'content': chunk})\n",
    "\n",
    "# Create a new DataFrame with the split content\n",
    "split_df = pd.DataFrame(split_data)\n",
    "\n",
    "# Display the split DataFrame\n",
    "print(split_df.head())\n",
    "\n",
    "docs = [Document(page_content=row['content'], metadata={'title': row['title']}) for index, row in split_df.iterrows()]"
   ],
   "id": "f5294ae0f73bdb5c",
   "outputs": [
    {
     "name": "stdout",
     "output_type": "stream",
     "text": [
      "                               title  \\\n",
      "0  Cara Cancel dan Amend Order Saham   \n",
      "1  Cara Cancel dan Amend Order Saham   \n",
      "2  Cara Cancel dan Amend Order Saham   \n",
      "3  Cara Cancel dan Amend Order Saham   \n",
      "4  Cara Cancel dan Amend Order Saham   \n",
      "\n",
      "                                             content  \n",
      "0  Cara Cancel dan Amend Order Saham\\n\\nSebelum m...  \n",
      "1  (**Jual**) sahamnya.\\n![](https://storage.cris...  \n",
      "2  [](https://storage.crisp.chat/users/helpdesk/w...  \n",
      "3  at/users/helpdesk/website/4538da5be8a77000/gam...  \n",
      "4  kb.jpg)\\n\\n4. Kamu bisa ubah nilai harga atau ...  \n"
     ]
    }
   ],
   "execution_count": 3
  },
  {
   "metadata": {},
   "cell_type": "markdown",
   "source": "### 3. Initialize LLM (Llama3-70b)",
   "id": "6acb1ceb3c8f0bca"
  },
  {
   "metadata": {
    "ExecuteTime": {
     "end_time": "2024-07-17T02:02:59.474010Z",
     "start_time": "2024-07-17T02:02:59.187550Z"
    }
   },
   "cell_type": "code",
   "source": [
    "from langchain_groq import ChatGroq\n",
    "from langchain_core.output_parsers import StrOutputParser\n",
    "from langchain.prompts import PromptTemplate\n",
    "from dotenv import load_dotenv\n",
    "import time \n",
    "import os\n",
    "\n",
    "# Load the API key from the environment\n",
    "load_dotenv()\n",
    "\n",
    "# Load the API key from the environment\n",
    "api_key = os.environ[\"GROQ_API_KEY\"]\n",
    "\n",
    "# Initialize the LLM model\n",
    "string_prompt = PromptTemplate(\n",
    "    template= \"\"\"\n",
    "    You are financial professional AI. Your objective is to answer frequently asked questions just like how a customer service person would. \n",
    "    Use casual and daily conversational language. Please use Bahasa Indonesia when responding to user's questions.\n",
    "    \n",
    "    \\n\\n {question} \\n\\n\n",
    "\"\"\",\n",
    "    input_variables = [\"question\"]\n",
    ")\n",
    "\n",
    "llama3_70b_groq = ChatGroq(temperature=0, model_name=\"llama3-70b-8192\")\n",
    "\n",
    "# Chain the data generator\n",
    "data_generator = string_prompt | llama3_70b_groq |  StrOutputParser()"
   ],
   "id": "4ceb250f048a5da4",
   "outputs": [],
   "execution_count": 4
  },
  {
   "metadata": {
    "ExecuteTime": {
     "end_time": "2024-07-17T02:03:11.141506Z",
     "start_time": "2024-07-17T02:03:09.452702Z"
    }
   },
   "cell_type": "code",
   "source": [
    "# Test the model \n",
    "question = \"Apa itu saham? Apa perbedaan berinvestasi saham dan berinvestasi di Reksa Dana Saham?\"\n",
    "print(\"Llama 70B\")\n",
    "start_time = time.time()\n",
    "print(data_generator.invoke({\"question\": question}))\n",
    "print(f\"inference took {time.time() - start_time} seconds\")"
   ],
   "id": "c5dc896a477d525a",
   "outputs": [
    {
     "name": "stdout",
     "output_type": "stream",
     "text": [
      "Llama 70B\n",
      "Halo!\n",
      "\n",
      "Saham adalah salah satu instrumen investasi yang memungkinkan Anda memiliki bagian kepemilikan dari suatu perusahaan. Ketika Anda membeli saham, Anda menjadi salah satu pemilik perusahaan tersebut dan berhak atas sebagian keuntungan yang dihasilkan oleh perusahaan.\n",
      "\n",
      "Sekarang, mari kita bahas perbedaan antara berinvestasi saham dan berinvestasi di Reksa Dana Saham.\n",
      "\n",
      "Berinvestasi saham berarti Anda membeli saham langsung dari perusahaan atau melalui bursa efek. Anda memiliki kontrol penuh atas portofolio Anda dan dapat memilih saham mana yang ingin Anda beli atau jual. Namun, Anda juga harus memiliki pengetahuan dan waktu untuk memantau kinerja saham Anda.\n",
      "\n",
      "Di sisi lain, berinvestasi di Reksa Dana Saham berarti Anda mempercayakan uang Anda kepada manajer investasi yang akan mengelola portofolio saham untuk Anda. Reksa Dana Saham adalah sebuah wadah yang menghimpun dana dari banyak investor untuk diinvestasikan dalam berbagai saham. Manajer investasi akan memilih saham yang sesuai dengan tujuan investasi dan risiko yang Anda inginkan.\n",
      "\n",
      "Perbedaan utama antara keduanya adalah tingkat kontrol dan keterlibatan Anda dalam pengelolaan portofolio. Jika Anda ingin memiliki kontrol penuh dan memiliki pengetahuan tentang pasar saham, maka berinvestasi saham langsung mungkin lebih cocok untuk Anda. Namun, jika Anda ingin memiliki akses ke pasar saham tetapi tidak memiliki waktu atau pengetahuan untuk memantau kinerja saham, maka berinvestasi di Reksa Dana Saham mungkin lebih sesuai untuk Anda.\n",
      "\n",
      "Semoga jawaban ini membantu!\n",
      "inference took 1.684499979019165 seconds\n"
     ]
    }
   ],
   "execution_count": 6
  },
  {
   "metadata": {},
   "cell_type": "markdown",
   "source": "### 4. Embedding the Data and RAG",
   "id": "71a3d15f3647a8fb"
  },
  {
   "metadata": {
    "ExecuteTime": {
     "end_time": "2024-07-17T02:03:43.217743Z",
     "start_time": "2024-07-17T02:03:39.092026Z"
    }
   },
   "cell_type": "code",
   "source": [
    "import duckdb\n",
    "from langchain_community.vectorstores import DuckDB\n",
    "from langchain_huggingface import HuggingFaceEmbeddings\n",
    "\n",
    "db_name = \"mvp_guan\"\n",
    "model_name = \"intfloat/multilingual-e5-base\"\n",
    "\n",
    "# db_log/<name it however you like>\n",
    "conn = duckdb.connect(f'db_log/demo_07162024_Guan_RAG_Testing'+str(db_name))\n",
    "\n",
    "# Should print \"name varchar\" and \"embeddings\"\n",
    "conn.sql(\"SHOW TABLES\").show()\n",
    "embeddings = HuggingFaceEmbeddings(model_name=model_name)\n",
    "\n",
    "start_time = time.time()\n",
    "docsearch = DuckDB(connection=conn,embedding=embeddings)\n",
    "print(\"DuckDB initiation took\", time.time() - start_time, \"seconds to run\")"
   ],
   "id": "5b87d7a7070d0d20",
   "outputs": [
    {
     "name": "stdout",
     "output_type": "stream",
     "text": [
      "┌────────────┐\n",
      "│    name    │\n",
      "│  varchar   │\n",
      "├────────────┤\n",
      "│ embeddings │\n",
      "└────────────┘\n",
      "\n",
      "DuckDB initiation took 0.0005710124969482422 seconds to run\n"
     ]
    }
   ],
   "execution_count": 8
  },
  {
   "metadata": {
    "ExecuteTime": {
     "end_time": "2024-07-17T02:04:35.136207Z",
     "start_time": "2024-07-17T02:03:51.687083Z"
    }
   },
   "cell_type": "code",
   "source": [
    "start_time = time.time()\n",
    "# Truncate any leftover embeddings to remove duplicates\n",
    "conn.sql(\"TRUNCATE embeddings\")\n",
    "docsearch.add_documents(docs)\n",
    "\n",
    "# Will take some time to seed the documents depending on the size of the data\n",
    "print(\"Seeding documents took\", time.time() - start_time, \"seconds to run\")"
   ],
   "id": "417a18b47bd86a97",
   "outputs": [
    {
     "name": "stdout",
     "output_type": "stream",
     "text": [
      "Seeding documents took 43.44543695449829 seconds to run\n"
     ]
    }
   ],
   "execution_count": 9
  },
  {
   "metadata": {
    "ExecuteTime": {
     "end_time": "2024-07-17T02:04:39.833725Z",
     "start_time": "2024-07-17T02:04:39.366420Z"
    }
   },
   "cell_type": "code",
   "source": [
    "# 'k' refer to the amount of chunks to retrieve from the database\n",
    "# 'score_threshold' refer to the minimum score to return the result (-1 to 1, 1 means exact match)\n",
    "duckdb_retriever = docsearch.as_retriever(search_kwargs={'k': 5, 'score_threshold':0.7})\n",
    "\n",
    "question = \"Apa itu saham? Apa perbedaan berinvestasi saham dan berinvestasi di Reksa Dana Saham?\"\n",
    "\n",
    "# This should print the top 5 most similar chunks from the database\n",
    "# ranked by their similarity score\n",
    "duckdb_retriever.invoke(question)"
   ],
   "id": "40117946a5371be",
   "outputs": [
    {
     "data": {
      "text/plain": [
       "[Document(metadata={'title': 'Apa itu Saham?', '_similarity_score': 0.9069331575727212}, page_content='am dan berinvestasi di Reksa Dana Saham?\\n\\nPerbedaan utama antara instrumen investasi saham dan reksadana saham terletak pada pihak yang mengambil keputusan investasi.\\nPada investasi saham, keputusan untuk membeli dan menjual saham diputuskan secara mandiri oleh investor itu sendiri. Sedangkan pada reksadana saham, keputusan tersebut berada di tangan Manajer Investasi selaku pihak yang menerbitkan dan mengelola reksadana.\\nBerinvestasi di saham langsung mengharuskan kamu untuk melakukan analisa da'),\n",
       " Document(metadata={'title': 'Apa itu Saham?', '_similarity_score': 0.8998171653470749}, page_content='emilik perusahaan sesuai dengan porsi berapa persen atau berapa banyak penyertaan yang ditanamkan di perusahaan tersebut. Jika perusahaan tersebut sehat, maka saham akan punya nilai jual yang tinggi karena bisa menghasilkan laba yang besar. Di sinilah daya tarik investasi dalam bentuk saham, baik dalam porsi kepemilikan kecil atau anda memang pendiri sekaligus pemegang saham tertinggi dalam perusahaan tersebut.\\n\\n### Apa perbedaan berinvestasi saham dan berinvestasi di Reksa Dana Saham?\\n\\nPerbedaa'),\n",
       " Document(metadata={'title': 'Apa itu Reksa Dana Saham?', '_similarity_score': 0.8919015339757914}, page_content='Apa itu Reksa Dana Saham?\\n\\n### Apa itu Reksa Dana Saham?\\n\\n${youtube}[Apa Itu Reksadana Saham?](GoOFd9xVK-c)\\n\\nJenis reksa dana yang sebagian besar alokasi investasinya ditempatkan pada efek saham. Biasanya dana investasi dialokasikan minimal 80% di saham, maksimal 20% surat utang, dan maksimal 20% pasar uang. Karena alokasi dana ke saham lebih besar dari instrumen lain, maka reksa dana saham ini relatif lebih berisiko dari pada jenis reksa dana lainnya.\\n\\n### Kita Ambil Contoh Reksa Dana BNI AM IDX30\\n\\n![](https://storage.cr'),\n",
       " Document(metadata={'title': 'Apa itu Reksa Dana?', '_similarity_score': 0.8899308354535875}, page_content='Apa itu Reksa Dana?\\n\\n### Apa itu Reksa Dana?\\n\\nReksa Dana adalah paket investasi yang dikelola secara profesional oleh Manajer Investasi. Dana masyarakat yang dikumpulkan di dalam reksadana akan diinvestasikan ke berbagai instrumen keuangan untuk menghasilkan keuntungan di masa depan.\\n\\nSebagai contoh reksa dana saham, kamu tidak hanya dibelikan 1 saham saja tetapi bisa 30 saham atau lebih dalam satu paket (reksa dana) yang dipilih melalui analisa profesional oleh manajer investasinya, tanpa kita harus memilih sendiri'),\n",
       " Document(metadata={'title': 'Apa itu Bibit?', '_similarity_score': 0.8777174141279488}, page_content=' [Apa itu Reksa Dana Saham?](/id/article/apa-itu-reksa-dana-saham-kpkmo8/)\\n4. [Apa itu Reksa Dana Obligasi?](/id/article/apa-itu-reksa-dana-obligasi-lscc6q/)')]"
      ]
     },
     "execution_count": 10,
     "metadata": {},
     "output_type": "execute_result"
    }
   ],
   "execution_count": 10
  },
  {
   "metadata": {},
   "cell_type": "markdown",
   "source": "### 5. Giving Tones/Personality to the LLM",
   "id": "5b00190d5c0c0e18"
  },
  {
   "metadata": {
    "ExecuteTime": {
     "end_time": "2024-07-17T02:05:51.315891Z",
     "start_time": "2024-07-17T02:05:51.311273Z"
    }
   },
   "cell_type": "code",
   "source": [
    "# I made 3 tones: comforting, detailed, and cautious\n",
    "# Comforting tone if user's question is about worry, stress, or sadness\n",
    "# Detailed tone if user's question is about how to do something\n",
    "# Cautious tone if user's question is about potential risks or dangers\n",
    "# These are in Bahasa Indonesia, change it to your own language if needed\n",
    "comforting_keywords = [\n",
    "    \"khawatir\", \"kekhawatiran\", \"hutang\", \"pengembalian\", \"hilang\",\n",
    "    \"bantuan\", \"ketakutan\", \"stres\", \"masalah\", \"isu\", \n",
    "    \"kesulitan\", \"bingung\", \"tidak bahagia\", \"kecewa\", \n",
    "    \"frustrasi\", \"cemas\", \"sedih\", \"takut\", \n",
    "    \"takut\", \"gugup\"\n",
    "]\n",
    "\n",
    "detailed_keywords = [\n",
    "    \"bagaimana\", \"mengubah\", \"dimana\", \"instruksi\", \"langkah\",\n",
    "    \"prosedur\", \"metode\", \"proses\", \"panduan\", \"detail\",\n",
    "    \"menjelaskan\", \"klarifikasi\", \"info\", \"informasi\", \n",
    "    \"manual\", \"tutorial\", \"arah\", \"pengaturan\", \n",
    "    \"konfigurasi\", \"menyesuaikan\"\n",
    "]\n",
    "\n",
    "cautious_keywords = [\n",
    "    \"berbahaya\", \"resiko\", \"risiko\", \"maksimum\", \"batas\", \"siswa sma\",\n",
    "    \"peringatan\", \"kehati-hatian\", \"ancaman\", \"bahaya\", \"tidak aman\",\n",
    "    \"problematik\", \"bahaya\", \"kewajiban\", \"paparan\", \"maximum\"\n",
    "    \"konsekuensi\", \"keprihatinan\", \"bahaya\", \"alarm\", \n",
    "    \"waspada\", \"potensial\"\n",
    "]"
   ],
   "id": "eba459660342b3ed",
   "outputs": [],
   "execution_count": 11
  },
  {
   "metadata": {
    "ExecuteTime": {
     "end_time": "2024-07-17T02:07:36.636096Z",
     "start_time": "2024-07-17T02:07:36.626478Z"
    }
   },
   "cell_type": "code",
   "source": [
    "# Define prompt templates for different tones\n",
    "comforting_prompt = PromptTemplate(\n",
    "    template= \"\"\"\n",
    "    You are an Indonesian financial professional AI. Use Bahasa Indonesia.\n",
    "    Your objective is to answer the user's question in a comforting and empathetic manner. \n",
    "    Use casual and daily conversational language to comfort the user.\n",
    "    Answer the question like you already know the information, not the reading from a source. \n",
    "    \n",
    "    This is the user's question: \n",
    "    {question}\n",
    "    \n",
    "    These are the document and information available:\n",
    "    {information}\n",
    "    \n",
    "    If the document is relevant to answer the user's question, \n",
    "    don't cite or look for sources online. \n",
    "    Stick to the information provided in the document.\n",
    "    Don't cite or say anything about article provided in the document.\n",
    "    \n",
    "    If you feel the document is irrelevant to answer user question, \n",
    "    say something similar like \"Kami tidak menemukan informasi tersebut dari database kami.\"\n",
    "    Then use websearch to answer user question and still answer in Bahasa Indonesia.\n",
    "    Don't forget to cite your sources (prefereably sources originating from Indonesia\n",
    "    so the user knows that your response is credible using Bahasa Indonesia.\n",
    "\"\"\",\n",
    "    input_variables = [\"question\", \"information\"]\n",
    ")\n",
    "\n",
    "detailed_prompt = PromptTemplate(\n",
    "    template= \"\"\"\n",
    "    You are an Indonesian financial professional AI. Use Bahasa Indonesia.\n",
    "    Your objective is to answer the user's question in a detailed and informative manner. \n",
    "    Provide clear, step-by-step instructions to help the user solve their problem.\n",
    "    Answer the question like you already know the information, not the reading from a source. \n",
    "\n",
    "    This is the user's question: \n",
    "    {question}\n",
    "    \n",
    "    These are the document and information available:\n",
    "    {information}\n",
    "    \n",
    "    If the document is relevant to answer the user's question, \n",
    "    don't cite or look for sources online. \n",
    "    Stick to the information provided in the document.\n",
    "    Don't cite or say anything about article provided in the document.\n",
    "    \n",
    "    If you feel the document is irrelevant to answer user question, \n",
    "    say something similar like \"Kami tidak menemukan informasi tersebut dari database kami.\"\n",
    "    Then use websearch to answer user question and still answer in Bahasa Indonesia.\n",
    "    Don't forget to cite your sources (prefereably sources originating from Indonesia\n",
    "    so the user knows that your response is credible using Bahasa Indonesia.\n",
    "\"\"\",\n",
    "    input_variables = [\"question\", \"information\"]\n",
    ")\n",
    "\n",
    "cautious_prompt = PromptTemplate(\n",
    "    template= \"\"\"\n",
    "    You are an Indonesian financial professional AI. Use Bahasa Indonesia.\n",
    "    Your objective is to answer the user's question in a cautious and warning manner. \n",
    "    Alert the user to any potential risks and provide advice to help them \n",
    "    avoid dangerous situations.\n",
    "    Answer the question like you already know the information, not the reading from a source. \n",
    "\n",
    "    \n",
    "    This is the user's question: \n",
    "    {question}\n",
    "    \n",
    "    These are the document and information available:\n",
    "    {information}\n",
    "    \n",
    "    If the document is relevant to answer the user's question, \n",
    "    don't cite or look for sources online. \n",
    "    Stick to the information provided in the document.\n",
    "    Don't cite or say anything about article provided in the document.\n",
    "    \n",
    "    If you feel the document is irrelevant to answer user question, \n",
    "    say something similar like \"Kami tidak menemukan informasi tersebut dari database kami.\"\n",
    "    Then use websearch to answer user question and still answer in Bahasa Indonesia.\n",
    "    Don't forget to cite your sources (prefereably sources originating from Indonesia\n",
    "    so the user knows that your response is credible using Bahasa Indonesia.\n",
    "\"\"\",\n",
    "    input_variables = [\"question\", \"information\"]\n",
    ")"
   ],
   "id": "306017eb53857aca",
   "outputs": [],
   "execution_count": 12
  },
  {
   "metadata": {
    "ExecuteTime": {
     "end_time": "2024-07-17T02:08:30.914206Z",
     "start_time": "2024-07-17T02:08:30.904594Z"
    }
   },
   "cell_type": "code",
   "source": [
    "# Prompt to categorize which tone to use\n",
    "tone_prompt = PromptTemplate(\n",
    "    template= \"\"\"\n",
    "    Please select whether this user's prompt, {question}, should be answered in a detailed,\n",
    "    comforting, or cautious tone. Please only respond 0 for detailed tone, 1 for comforting tone, \n",
    "    and 2 for cautious tone without any other words or characters or white spaces. \n",
    "    \n",
    "    A comforting tone should be used if user's question feels \n",
    "    like the user is worried or emotionally stressed about a certain concern. \n",
    "    This can be like \"What happened if I have a debt on my account?\" \n",
    "    or \"How can I return a stock order\". The purpose is to comfort the user. \n",
    "    \n",
    "    A detailed tone should be used if the user is asking about a technical problem \n",
    "    such as \"How change my email address or phone number?\", \n",
    "    \"Where to see my available stocks?\". The purpose is to give a neat, \n",
    "    detailed response of instructions to help the user solve the a technical issue.\n",
    "    \n",
    "    A cautious tone should be used if the user is asking about a problem that\n",
    "    might be dangerous or pose a threat to the user. \n",
    "    Such as \"Can a highschooler use bibit?\", \n",
    "    \"What is the maximum amount of stocks i can buy from this company.\" \n",
    "    The purposeis to warn user that their question and actions might \n",
    "    lead to debt because of taking high risks. \n",
    "    \n",
    "    Watch out for this key words if present in the question to identify which tone to use.\n",
    "    \n",
    "    comforting_keywords = [\n",
    "        \"khawatir\", \"kekhawatiran\", \"hutang\", \"pengembalian\", \"hilang\",\n",
    "        \"bantuan\", \"ketakutan\", \"stres\", \"masalah\", \"isu\", \n",
    "        \"kesulitan\", \"bingung\", \"tidak bahagia\", \"kecewa\", \n",
    "        \"frustrasi\", \"cemas\", \"sedih\", \"takut\", \n",
    "        \"takut\", \"gugup\"\n",
    "    ]\n",
    "\n",
    "    detailed_keywords = [\n",
    "        \"bagaimana\", \"mengubah\", \"dimana\", \"instruksi\", \"langkah\",\n",
    "        \"prosedur\", \"metode\", \"proses\", \"panduan\", \"detail\",\n",
    "        \"menjelaskan\", \"klarifikasi\", \"info\", \"informasi\", \n",
    "        \"manual\", \"tutorial\", \"arah\", \"pengaturan\", \n",
    "        \"konfigurasi\", \"menyesuaikan\"\n",
    "    ]\n",
    "\n",
    "    cautious_keywords = [\n",
    "        \"berbahaya\", \"resiko\", \"risiko\", \"maksimum\", \"batas\", \"siswa sma\",\n",
    "        \"peringatan\", \"kehati-hatian\", \"ancaman\", \"bahaya\", \"tidak aman\",\n",
    "        \"problematik\", \"bahaya\", \"kewajiban\", \"paparan\", \"maximum\"\n",
    "        \"konsekuensi\", \"keprihatinan\", \"bahaya\", \"alarm\", \n",
    "        \"waspada\", \"potensial\"\n",
    "    ]\n",
    "    \n",
    "\"\"\",\n",
    "    input_variables = [\"question\"]\n",
    ")"
   ],
   "id": "abdaea456443c5d1",
   "outputs": [],
   "execution_count": 13
  },
  {
   "metadata": {
    "ExecuteTime": {
     "end_time": "2024-07-17T02:11:29.461756Z",
     "start_time": "2024-07-17T02:11:29.455512Z"
    }
   },
   "cell_type": "code",
   "source": [
    "# Define the chains for each tone\n",
    "# Tone chain will return an integer value of 0, 1, or 2 \n",
    "# to determine which tone to use for the response\n",
    "tone_chain = tone_prompt | llama3_70b_groq | StrOutputParser()\n",
    "detailed_chain = detailed_prompt | llama3_70b_groq | StrOutputParser()\n",
    "comforting_chain = comforting_prompt | llama3_70b_groq | StrOutputParser()\n",
    "cautious_chain = cautious_prompt | llama3_70b_groq | StrOutputParser()\n",
    "\n",
    "# Function to generate response based on tone\n",
    "def generate_response(question, information):\n",
    "    start_time = time.time()\n",
    "    \n",
    "    tone_result = tone_chain.invoke({\"question\": question})\n",
    "    tone = int(tone_result.strip())\n",
    "    \n",
    "    if tone == 0:\n",
    "        response = detailed_chain.invoke({\"question\": question, \"information\": information})\n",
    "    elif tone == 1:\n",
    "        response = comforting_chain.invoke({\"question\": question, \"information\": information})\n",
    "    elif tone == 2:\n",
    "        response = cautious_chain.invoke({\"question\": question, \"information\": information})\n",
    "    else:\n",
    "        # default tone: detailed\n",
    "        response = detailed_chain.invoke({\"question\": question, \"information\": information})  # Default to detailed\n",
    "    \n",
    "    end_time = time.time()\n",
    "    print(f\"Generating response took {end_time - start_time:.2f} seconds \\n\")\n",
    "    \n",
    "    return response"
   ],
   "id": "2b35f32513fb7248",
   "outputs": [],
   "execution_count": 15
  },
  {
   "metadata": {
    "ExecuteTime": {
     "end_time": "2024-07-17T02:11:32.889828Z",
     "start_time": "2024-07-17T02:11:30.908745Z"
    }
   },
   "cell_type": "code",
   "source": [
    "# Change the question to test the Stockbit FAQ bot\n",
    "question = \"Bagaimana Jika Bibit Ditutup?\"\n",
    "information = duckdb_retriever.invoke(question)\n",
    "\n",
    "print(generate_response(question, information))"
   ],
   "id": "45d692d0fe86b6fb",
   "outputs": [
    {
     "name": "stdout",
     "output_type": "stream",
     "text": [
      "Generating response took 1.90 seconds \n",
      "\n",
      "Bagaimana jika Bibit ditutup? \n",
      "\n",
      "Jika Bibit ditutup, investor tidak perlu khawatir mengenai uang yang sudah diinvestasikan pada produk reksa dana. Seluruh dana investor tidak disimpan di Bibit, melainkan tersimpan aman di Bank Kustodian. Artinya, jika Bibit sampai tutup sekalipun, uang dan reksa dana kamu tetap tersimpan aman di Bank Kustodian.\n",
      "\n",
      "Untuk mengambil dana, kamu dapat melakukan proses pencairan dana melalui Manajer Investasi. Manajer Investasi akan memandu proses pencairan dana dengan menunjukkan KTP serta bukti kepemilikan reksa dana.\n",
      "\n",
      "Jadi, investor tidak perlu khawatir jika Bibit ditutup, karena dana kamu tetap aman dan dapat dicairkan kapan saja.\n"
     ]
    }
   ],
   "execution_count": 16
  }
 ],
 "metadata": {
  "kernelspec": {
   "display_name": "Python 3",
   "language": "python",
   "name": "python3"
  },
  "language_info": {
   "codemirror_mode": {
    "name": "ipython",
    "version": 2
   },
   "file_extension": ".py",
   "mimetype": "text/x-python",
   "name": "python",
   "nbconvert_exporter": "python",
   "pygments_lexer": "ipython2",
   "version": "2.7.6"
  }
 },
 "nbformat": 4,
 "nbformat_minor": 5
}
